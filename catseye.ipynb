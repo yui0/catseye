{
  "nbformat": 4,
  "nbformat_minor": 0,
  "metadata": {
    "colab": {
      "name": "catseye.ipynb",
      "provenance": []
    },
    "kernelspec": {
      "name": "python3",
      "display_name": "Python 3"
    }
  },
  "cells": [
    {
      "cell_type": "code",
      "metadata": {
        "id": "RCdPTYwRtbc-"
      },
      "source": [
        "!git clone https://github.com/yui0/catseye.git"
      ],
      "execution_count": null,
      "outputs": []
    },
    {
      "cell_type": "code",
      "metadata": {
        "id": "wC1rQz-RvhD_"
      },
      "source": [
        "%cd catseye/example\n",
        "!wget http://yann.lecun.com/exdb/mnist/train-images-idx3-ubyte.gz\n",
        "!wget http://yann.lecun.com/exdb/mnist/train-labels-idx1-ubyte.gz\n",
        "!gunzip train-images-idx3-ubyte.gz\n",
        "!gunzip train-labels-idx1-ubyte.gz\n",
        "%cd ../.."
      ],
      "execution_count": null,
      "outputs": []
    },
    {
      "cell_type": "code",
      "metadata": {
        "id": "OS6OwAebuOdB"
      },
      "source": [
        "%cd catseye/example-new\n",
        "!clang mnist_cnn_train.c -o mnist_cnn_train -lm -Ofast -march=native -funroll-loops\n",
        "!./mnist_cnn_train"
      ],
      "execution_count": null,
      "outputs": []
    }
  ]
}